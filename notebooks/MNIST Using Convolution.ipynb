{
 "cells": [
  {
   "cell_type": "markdown",
   "metadata": {},
   "source": [
    "# MNIST Using convolution\n",
    "\n",
    "This is a stipped down version of MNIST.  We will learn how to recognize a 6!\n",
    "\n",
    "For this demo to work you'll need to download the mnist dataset from [here](http://yann.lecun.com/exdb/mnist/)\n",
    "and place them in `notebooks/data/`"
   ]
  },
  {
   "cell_type": "code",
   "execution_count": 1,
   "metadata": {},
   "outputs": [],
   "source": [
    "## Helper function to read the MNIST data set\n",
    "\n",
    "import os\n",
    "import struct\n",
    "import numpy as np\n",
    "\n",
    "\"\"\"\n",
    "Loosely inspired by http://abel.ee.ucla.edu/cvxopt/_downloads/mnist.py\n",
    "which is GPL licensed.\n",
    "\"\"\"\n",
    "\n",
    "def read(dataset = 'training', path = './data', seperator = '-'):\n",
    "    \"\"\"\n",
    "    Python function for importing the MNIST data set.  It returns an iterator\n",
    "    of 2-tuples with the first element being the label and the second element\n",
    "    being a numpy.uint8 2D array of pixel data for the given image.\n",
    "    \"\"\"\n",
    "\n",
    "    if dataset is 'training':\n",
    "        fname_img = os.path.join(path, 'train-images'+seperator+'idx3-ubyte')\n",
    "        fname_lbl = os.path.join(path, 'train-labels'+seperator+'idx1-ubyte')\n",
    "    elif dataset is 'testing':\n",
    "        fname_img = os.path.join(path, 't10k-images'+seperator+'idx3-ubyte')\n",
    "        fname_lbl = os.path.join(path, 't10k-labels'+seperator+'idx1-ubyte')\n",
    "    else:\n",
    "        raise ValueError(\"dataset must be 'testing' or 'training'\")\n",
    "\n",
    "    # Load everything in some numpy arrays\n",
    "    with open(fname_lbl, 'rb') as flbl:\n",
    "        magic, num = struct.unpack(\">II\", flbl.read(8))\n",
    "        lbl = np.fromfile(flbl, dtype=np.int8)\n",
    "\n",
    "    with open(fname_img, 'rb') as fimg:\n",
    "        magic, num, rows, cols = struct.unpack(\">IIII\", fimg.read(16))\n",
    "        tmp = np.fromfile(fimg, dtype=np.uint8).reshape(len(lbl), rows, cols)\n",
    "        tmp2 = np.array(tmp).astype('float')\n",
    "        img = [ x / 255 for x in tmp2 ]\n",
    "        \n",
    "\n",
    "    get_img = lambda idx: (lbl[idx], img[idx])\n",
    "\n",
    "    # Create an iterator which returns each image in turn\n",
    "    for i in range(len(lbl)):\n",
    "        yield get_img(i)\n",
    "\n",
    "def show(image):\n",
    "    \"\"\"\n",
    "    Render a given numpy.uint8 2D array of pixel data.\n",
    "    \"\"\"\n",
    "    from matplotlib import pyplot\n",
    "    import matplotlib as mpl\n",
    "    fig = pyplot.figure()\n",
    "    ax = fig.add_subplot(1,1,1)\n",
    "    imgplot = ax.imshow(image, cmap=mpl.cm.Greys)\n",
    "    imgplot.set_interpolation('nearest')\n",
    "    ax.xaxis.set_ticks_position('top')\n",
    "    ax.yaxis.set_ticks_position('left')\n",
    "    pyplot.show()"
   ]
  },
  {
   "cell_type": "markdown",
   "metadata": {},
   "source": [
    "We are going to train and get really good at recognizing this 6"
   ]
  },
  {
   "cell_type": "code",
   "execution_count": 2,
   "metadata": {},
   "outputs": [
    {
     "data": {
      "image/png": "[encoded data removed]",
      "text/plain": [
       "<matplotlib.figure.Figure at 0x21ea2757e80>"
      ]
     },
     "metadata": {},
     "output_type": "display_data"
    }
   ],
   "source": [
    "mnist = read('training','data','.')\n",
    "#mnist = read('training')\n",
    "mnist = list(mnist)\n",
    "label, pixels = mnist[32] ## random 6 i found\n",
    "show(pixels)"
   ]
  },
  {
   "cell_type": "code",
   "execution_count": 3,
   "metadata": {},
   "outputs": [],
   "source": [
    "def onehot(label,nb_labels=10):\n",
    "    out = np.zeros(nb_labels)\n",
    "    out[label-1]=1\n",
    "    return out"
   ]
  },
  {
   "cell_type": "code",
   "execution_count": 4,
   "metadata": {},
   "outputs": [],
   "source": [
    "samples = 15\n",
    "pics = [x[1]for x in mnist[:samples]]\n",
    "labels = [onehot(x[0]) for x in mnist[:samples]]"
   ]
  },
  {
   "cell_type": "code",
   "execution_count": 5,
   "metadata": {},
   "outputs": [],
   "source": [
    "#openmined imports:\n",
    "import syft\n",
    "import syft.nn as nn\n",
    "import syft.controller\n",
    "import imp\n",
    "imp.reload(syft.controller)\n",
    "imp.reload(syft.nn)\n",
    "imp.reload(syft)\n",
    "from syft import FloatTensor"
   ]
  },
  {
   "cell_type": "markdown",
   "metadata": {},
   "source": [
    "### Our data"
   ]
  },
  {
   "cell_type": "code",
   "execution_count": 6,
   "metadata": {},
   "outputs": [
    {
     "data": {
      "text/plain": [
       "([15, 28, 28], [15, 10], [28, 28])"
      ]
     },
     "execution_count": 6,
     "metadata": {},
     "output_type": "execute_result"
    }
   ],
   "source": [
    "data = FloatTensor(pics,autograd=True)\n",
    "target = FloatTensor(labels).autograd(True)\n",
    "pic_size = data.shape()[1:3]\n",
    "data.shape(),target.shape(),pic_size"
   ]
  },
  {
   "cell_type": "markdown",
   "metadata": {},
   "source": [
    "### Our model"
   ]
  },
  {
   "cell_type": "code",
   "execution_count": 7,
   "metadata": {},
   "outputs": [],
   "source": [
    "model = nn.Sequential()\n",
    "model.add(nn.View(samples,1,pic_size[0],pic_size[1]))\n",
    "model.add(nn.Conv2d(1,1,7))\n",
    "model.add(nn.Sigmoid())\n",
    "model.add(nn.Conv2d(1,1,7))\n",
    "model.add(nn.Sigmoid())\n",
    "model.add(nn.View(samples,16*16))\n",
    "model.add(nn.Linear(16*16,25))\n",
    "model.add(nn.Sigmoid())\n",
    "model.add(nn.Linear(5*5,10))\n",
    "model.add(nn.Sigmoid())"
   ]
  },
  {
   "cell_type": "code",
   "execution_count": 8,
   "metadata": {},
   "outputs": [
    {
     "data": {
      "text/plain": [
       "([15, 10], [15, 10])"
      ]
     },
     "execution_count": 8,
     "metadata": {},
     "output_type": "execute_result"
    }
   ],
   "source": [
    "#pre-training\n",
    "pred = model(data)\n",
    "pred.shape(),target.shape()"
   ]
  },
  {
   "cell_type": "markdown",
   "metadata": {},
   "source": [
    "Train our model to become a pro at that digits"
   ]
  },
  {
   "cell_type": "code",
   "execution_count": 9,
   "metadata": {},
   "outputs": [
    {
     "name": "stdout",
     "output_type": "stream",
     "text": [
      "65.6375493785\n",
      "15.0665049064\n",
      "14.9749110703\n",
      "14.9965804033\n",
      "14.9993906205\n",
      "14.9998584273\n",
      "14.9999621704\n",
      "14.9999892075\n",
      "6.79 s ± 198 ms per loop (mean ± std. dev. of 7 runs, 1 loop each)\n"
     ]
    }
   ],
   "source": [
    "%%timeit #-n 3\n",
    "\n",
    "pred = model(data)\n",
    "loss = (pred - target) ** 2 # Mean Squared Error Loss\n",
    "\n",
    "loss.backward()\n",
    "\n",
    "for i,p in enumerate(model.parameters()):\n",
    "    if p.autograd():\n",
    "        p -= p.grad()\n",
    "\n",
    "print(loss.to_numpy().sum())"
   ]
  },
  {
   "cell_type": "code",
   "execution_count": 11,
   "metadata": {},
   "outputs": [
    {
     "data": {
      "text/plain": [
       "(array([ 0.6686268 ,  0.2665654 ,  0.9498549 ,  0.268577  ,  0.616451  ,\n",
       "         0.9752122 ,  0.8174934 ,  0.4225313 ,  0.7959878 ,  0.05409032]),\n",
       " array([ 0.,  0.,  0.,  0.,  0.,  0.,  0.,  0.,  0.,  1.]))"
      ]
     },
     "execution_count": 11,
     "metadata": {},
     "output_type": "execute_result"
    }
   ],
   "source": [
    "example = 1\n",
    "pred.to_numpy()[example],target.to_numpy()[example]"
   ]
  },
  {
   "cell_type": "markdown",
   "metadata": {},
   "source": [
    "Now, let's find a different 6 in the data and see how well we can recognize that"
   ]
  },
  {
   "cell_type": "code",
   "execution_count": 19,
   "metadata": {},
   "outputs": [
    {
     "data": {
      "image/png": "[encoded data removed]",
      "text/plain": [
       "<matplotlib.figure.Figure at 0x21ea4818128>"
      ]
     },
     "metadata": {},
     "output_type": "display_data"
    }
   ],
   "source": [
    "other_label, other_pixels = mnist[36] ## a different random 6 i found\n",
    "show(other_pixels)\n",
    "other_six = FloatTensor(other_pixels).view(1, 28,28).autograd(True)"
   ]
  },
  {
   "cell_type": "code",
   "execution_count": null,
   "metadata": {},
   "outputs": [],
   "source": [
    "#this doesn't work yet, need batch support\n",
    "pred = model(other_six)\n",
    "pred"
   ]
  },
  {
   "cell_type": "markdown",
   "metadata": {},
   "source": [
    "Check out the 6th element of the array!"
   ]
  },
  {
   "cell_type": "markdown",
   "metadata": {},
   "source": [
    "## Simple examples"
   ]
  },
  {
   "cell_type": "code",
   "execution_count": 21,
   "metadata": {},
   "outputs": [],
   "source": [
    "#openmined imports:\n",
    "import syft\n",
    "import syft.nn as nn\n",
    "import syft.controller\n",
    "import imp\n",
    "imp.reload(syft.controller)\n",
    "imp.reload(syft.nn)\n",
    "imp.reload(syft)\n",
    "from syft import FloatTensor"
   ]
  },
  {
   "cell_type": "code",
   "execution_count": 22,
   "metadata": {},
   "outputs": [
    {
     "data": {
      "text/plain": [
       "([[[[ 0.9993694  0.5485256]]]]\n",
       " [syft.FloatTensor:579 grad:None size:1x1x1x2]\n",
       " \n",
       " \t-----------creators-----------\n",
       " \t[syft.FloatTensor:571 grad:None size:1x1x2x2]\n",
       " \t[syft.FloatTensor:577 grad:None size:1x2x1]\n",
       " \t[syft.FloatTensor:578 grad:None size:1]\n",
       " \t[syft.FloatTensor:573 grad:None size:2]\n",
       " \t[syft.FloatTensor:574 grad:None size:2]\n",
       " \t[syft.FloatTensor:575 grad:None size:2]\n",
       " \t[syft.FloatTensor:576 grad:None size:1]\n",
       " \t------------------------------\n",
       " \n",
       " , [[[[ 2.  1.]]]]\n",
       " [syft.FloatTensor:572 grad:None size:1x1x1x2])"
      ]
     },
     "execution_count": 22,
     "metadata": {},
     "output_type": "execute_result"
    }
   ],
   "source": [
    "data = FloatTensor( [[[[1,0],[0,1]]]],autograd=1)\n",
    "target = FloatTensor( [[[[2,1]]]],autograd=1)\n",
    "model = nn.Conv2d(1,1,(2,1))\n",
    "model(data),target"
   ]
  },
  {
   "cell_type": "code",
   "execution_count": 23,
   "metadata": {},
   "outputs": [
    {
     "data": {
      "text/plain": [
       "([[[[ 0.9993694   0.5485256 ]\n",
       "    [-0.07908762  0.3619677 ]]]]\n",
       " [syft.FloatTensor:606 grad:None size:1x1x2x2]\n",
       " \n",
       " \t-----------creators-----------\n",
       " \t[syft.FloatTensor:598 grad:None size:1x1x3x3]\n",
       " \t[syft.FloatTensor:604 grad:None size:1x2x2]\n",
       " \t[syft.FloatTensor:605 grad:None size:1]\n",
       " \t[syft.FloatTensor:600 grad:None size:2]\n",
       " \t[syft.FloatTensor:601 grad:None size:2]\n",
       " \t[syft.FloatTensor:602 grad:None size:2]\n",
       " \t[syft.FloatTensor:603 grad:None size:1]\n",
       " \t------------------------------\n",
       " \n",
       " , [[[[ 1.  2.]\n",
       "    [ 1.  0.]]]]\n",
       " [syft.FloatTensor:599 grad:None size:1x1x2x2])"
      ]
     },
     "execution_count": 23,
     "metadata": {},
     "output_type": "execute_result"
    }
   ],
   "source": [
    "data = FloatTensor( [[[[1,0,1],[0,0,0],[0,1,0]]]],autograd=1)\n",
    "target = FloatTensor( [[[[1,2],[1,0]]]],autograd=1)\n",
    "model = nn.Conv2d(1,1,2)\n",
    "model(data),target"
   ]
  },
  {
   "cell_type": "code",
   "execution_count": 24,
   "metadata": {},
   "outputs": [
    {
     "data": {
      "text/plain": [
       "[[[[ 0.9993694   0.5485256 ]\n",
       "   [ 0.3619677  -0.07908762]]]\n",
       " [syft.FloatTensor:604 grad:None size:1x2x2]\n",
       " \n",
       " \t-----------children-----------\n",
       " \t[syft.FloatTensor:606 grad:None size:1x1x2x2]\n",
       " \t------------------------------\n",
       " \n",
       " , [ 0.]\n",
       " [syft.FloatTensor:605 grad:None size:1], [ 1.  1.]\n",
       " [syft.FloatTensor:600 grad:None size:2], [ 0.  0.]\n",
       " [syft.FloatTensor:601 grad:None size:2], [ 1.  1.]\n",
       " [syft.FloatTensor:602 grad:None size:2], [ 1.]\n",
       " [syft.FloatTensor:603 grad:None size:1]]"
      ]
     },
     "execution_count": 24,
     "metadata": {},
     "output_type": "execute_result"
    }
   ],
   "source": [
    "model.parameters()"
   ]
  },
  {
   "cell_type": "code",
   "execution_count": 25,
   "metadata": {},
   "outputs": [
    {
     "name": "stdout",
     "output_type": "stream",
     "text": [
      "[1, 1, 2, 2] [1, 1, 2, 2]\n"
     ]
    },
    {
     "data": {
      "text/plain": [
       "[[[[ 1.  1.]\n",
       "   [ 1.  1.]]]]\n",
       "[syft.FloatTensor:643 grad:None size:1x1x2x2]"
      ]
     },
     "execution_count": 25,
     "metadata": {},
     "output_type": "execute_result"
    }
   ],
   "source": [
    "pred = model(data)\n",
    "print(pred.shape(),target.shape())\n",
    "loss = (pred - target)# ** 2 # Mean Squared Error Loss\n",
    "loss.backward()\n",
    "loss.grad()"
   ]
  },
  {
   "cell_type": "code",
   "execution_count": 26,
   "metadata": {},
   "outputs": [
    {
     "data": {
      "text/plain": [
       "([[[[ -6.30617100e-04  -1.45147400e+00]\n",
       "    [ -1.07908800e+00   3.61967700e-01]]]]\n",
       " [syft.FloatTensor:642 grad:643 size:1x1x2x2]\n",
       " \n",
       " \t-----------creators-----------\n",
       " \t[syft.FloatTensor:639 grad:644 size:1x1x2x2]\n",
       " \t[syft.FloatTensor:599 grad:652 size:1x1x2x2]\n",
       " \t------------------------------\n",
       " \n",
       " , [[[ 0.9993694   0.5485256 ]\n",
       "   [ 0.3619677  -0.07908762]]]\n",
       " [syft.FloatTensor:604 grad:651 size:1x2x2]\n",
       " \n",
       " \t-----------children-----------\n",
       " \t[syft.FloatTensor:606 grad:None size:1x1x2x2]\n",
       " [syft.FloatTensor:639 grad:644 size:1x1x2x2]\n",
       " \t------------------------------\n",
       " \n",
       " , [[[ 1.  1.]\n",
       "   [ 1.  1.]]]\n",
       " [syft.FloatTensor:651 grad:None size:1x2x2])"
      ]
     },
     "execution_count": 26,
     "metadata": {},
     "output_type": "execute_result"
    }
   ],
   "source": [
    "loss,model.parameters()[0],model.parameters()[0].grad()"
   ]
  },
  {
   "cell_type": "code",
   "execution_count": 27,
   "metadata": {},
   "outputs": [
    {
     "data": {
      "text/plain": [
       "[[[ 1.  1.]\n",
       "  [ 1.  1.]]]\n",
       "[syft.FloatTensor:651 grad:None size:1x2x2]"
      ]
     },
     "execution_count": 27,
     "metadata": {},
     "output_type": "execute_result"
    }
   ],
   "source": [
    "loss.grad()\n",
    "model.parameters()[0].grad()"
   ]
  },
  {
   "cell_type": "code",
   "execution_count": 29,
   "metadata": {},
   "outputs": [],
   "source": [
    "#above, I would like to see the backpropped error, not a backprop of ones"
   ]
  },
  {
   "cell_type": "code",
   "execution_count": 28,
   "metadata": {},
   "outputs": [
    {
     "name": "stdout",
     "output_type": "stream",
     "text": [
      "[[[ 0.9987388 -1.902949 ]\n",
      "  [ 1.723935  -1.158175 ]]]\n",
      "[[[[  3.97678000e-07   2.10677800e+00]\n",
      "   [  1.16443000e+00   1.31020600e-01]]]]\n",
      "[[[ 0.9775027 -4.767838 ]\n",
      "  [ 2.413392  -3.293187 ]]]\n",
      "[[[[  1.12742600e-04   2.05189800e+00]\n",
      "   [  1.13956900e+00   1.18837600e-01]]]]\n",
      "[[[ 0.9367166 -7.537372 ]\n",
      "  [ 3.054581  -5.362335 ]]]\n",
      "[[[[  4.15877400e-04   1.91757800e+00]\n",
      "   [  1.07034300e+00   1.02780800e-01]]]]\n",
      "[[[  0.8771961 -10.15616  ]\n",
      "  [  3.634678   -7.324236 ]]]\n",
      "[[[[  8.85672000e-04   1.71450900e+00]\n",
      "   [  9.62264200e-01   8.41281900e-02]]]]\n",
      "[[[  0.8001317 -12.57182  ]\n",
      "  [  4.142082   -9.139653 ]]]\n",
      "[[[[ 0.00148473  1.458856  ]\n",
      "   [ 0.8239343   0.0643646 ]]]]\n",
      "[[[  0.7070646 -14.73605  ]\n",
      "  [  4.566644  -10.77228  ]]]\n",
      "[[[[ 0.00216537  1.170969  ]\n",
      "   [ 0.6663648   0.04506322]]]]\n",
      "[[[  0.5998563 -16.60555  ]\n",
      "  [  4.899873  -12.18946  ]]]\n",
      "[[[[ 0.00287341  0.8737624 ]\n",
      "   [ 0.5020983   0.02776041]]]]\n",
      "[[[  0.4806508 -18.14294  ]\n",
      "  [  5.135104  -13.36284  ]]]\n",
      "[[[[ 0.00355249  0.5908951 ]\n",
      "   [ 0.3442104   0.01383348]]]]\n",
      "[[[  0.3518323 -19.31748  ]\n",
      "  [  5.267634  -14.26898  ]]]\n",
      "[[[[ 0.00414855  0.3448833 ]\n",
      "   [ 0.2052688   0.00439102]]]]\n",
      "[[[  0.2159771 -20.10567  ]\n",
      "  [  5.294811  -14.88973  ]]]\n",
      "[[[[ 0.00461416  0.1553091 ]\n",
      "   [ 0.0963334   0.00018465]]]]\n",
      "[[[  0.07580233 -20.49174   ]\n",
      "  [  5.216092   -15.21269   ]]]\n",
      "[[[[ 0.00491224  0.03726297]\n",
      "   [ 0.02607545  0.00154918]]]]\n",
      "[[[ -0.06588852 -20.46798   ]\n",
      "  [  5.033051   -15.23139   ]]]\n",
      "[[[[  5.01907400e-03   1.41160900e-04]\n",
      "   [  8.74615500e-05   8.37601600e-03]]]]\n",
      "[[[ -0.2062616 -20.03485  ]\n",
      "  [  4.749348  -14.94547  ]]]\n",
      "[[[[ 0.00492615  0.0468986 ]\n",
      "   [ 0.02043809  0.02012173]]]]\n",
      "[[[ -0.3425095 -19.20104  ]\n",
      "  [  4.370659  -14.36063  ]]]\n",
      "[[[[ 0.00464087  0.1738135 ]\n",
      "   [ 0.08550745  0.03585136]]]]\n",
      "[[[ -0.4719071 -17.9832   ]\n",
      "  [  3.904557  -13.48859  ]]]\n",
      "[[[[ 0.00418594  0.3707834 ]\n",
      "   [ 0.1901159   0.05431284]]]]\n",
      "[[[ -0.5918666 -16.40569  ]\n",
      "  [  3.360363  -12.34677  ]]]\n",
      "[[[[ 0.00359757  0.6221294 ]\n",
      "   [ 0.3259369   0.07403663]]]]\n",
      "[[[ -0.6999887 -14.50008  ]\n",
      "  [  2.748962  -10.95802  ]]]\n",
      "[[[[ 0.0029226   0.9078447 ]\n",
      "   [ 0.4821587   0.09345271]]]]\n",
      "[[[ -0.794111 -12.30446 ]\n",
      "  [  2.082582  -9.350105]]]\n",
      "[[[[ 0.00221475  1.205186  ]\n",
      "   [ 0.6463463   0.1110156 ]]]]\n",
      "[[[-0.8723511 -9.862749 ]\n",
      "  [ 1.374551  -7.55519  ]]]\n",
      "[[[[ 0.00153038  1.490485  ]\n",
      "   [ 0.8054304   0.1253272 ]]]]\n",
      "[[[-0.9331441 -7.223786 ]\n",
      "  [ 0.6390281 -5.609171 ]]]\n",
      "[[[[  9.23948500e-04   1.74103200e+00]\n",
      "   [  9.46747700e-01   1.35248400e-01]]]]\n",
      "[[[-0.9752742 -4.440347 ]\n",
      "  [-0.1092751 -3.550968 ]]]\n",
      "[[[[  4.43736600e-04   1.93688300e+00]\n",
      "   [  1.05905000e+00   1.39989400e-01]]]]\n",
      "434 ms ± 3.73 ms per loop (mean ± std. dev. of 7 runs, 3 loops each)\n"
     ]
    }
   ],
   "source": [
    "%%timeit -n 3\n",
    "\n",
    "pred = model(data)\n",
    "loss = (pred - target) ** 2 # Mean Squared Error Loss\n",
    "\n",
    "loss.backward()\n",
    "\n",
    "for i,p in enumerate(model.parameters()):\n",
    "    if p.autograd():\n",
    "        print( p.grad().to_numpy())\n",
    "        p -= p.grad()*0.01\n",
    "\n",
    "#print(loss.to_numpy().sum())\n",
    "print(loss.to_numpy())"
   ]
  }
 ],
 "metadata": {
  "kernelspec": {
   "display_name": "Python 3",
   "language": "python",
   "name": "python3"
  },
  "language_info": {
   "codemirror_mode": {
    "name": "ipython",
    "version": 3
   },
   "file_extension": ".py",
   "mimetype": "text/x-python",
   "name": "python",
   "nbconvert_exporter": "python",
   "pygments_lexer": "ipython3",
   "version": "3.6.2"
  }
 },
 "nbformat": 4,
 "nbformat_minor": 2
}
