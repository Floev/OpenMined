{
 "cells": [
  {
   "cell_type": "code",
   "execution_count": 27,
   "metadata": {
    "collapsed": true
   },
   "outputs": [],
   "source": [
    "import syft\n",
    "import syft.nn as nn\n",
    "import syft.controller\n",
    "import imp\n",
    "imp.reload(syft.controller)\n",
    "imp.reload(syft.nn)\n",
    "imp.reload(syft)\n",
    "\n",
    "import numpy as np\n",
    "from syft import FloatTensor"
   ]
  },
  {
   "cell_type": "code",
   "execution_count": 28,
   "metadata": {
    "collapsed": true
   },
   "outputs": [],
   "source": [
    "model = nn.Sequential([\n",
    "    nn.Linear(3,4),\n",
    "    nn.Sigmoid(),\n",
    "    nn.Linear(4,1),\n",
    "    nn.Sigmoid()\n",
    "])"
   ]
  },
  {
   "cell_type": "code",
   "execution_count": 29,
   "metadata": {},
   "outputs": [
    {
     "data": {
      "text/plain": [
       "<syft.nn.Sequential at 0x1123e7be0>"
      ]
     },
     "execution_count": 29,
     "metadata": {},
     "output_type": "execute_result"
    }
   ],
   "source": [
    "model"
   ]
  },
  {
   "cell_type": "code",
   "execution_count": 30,
   "metadata": {},
   "outputs": [
    {
     "data": {
      "text/plain": [
       "[<syft.nn.Linear at 0x1123e79b0>,\n",
       " <syft.nn.Sigmoid at 0x1123e7ac8>,\n",
       " <syft.nn.Linear at 0x1123e79e8>,\n",
       " <syft.nn.Sigmoid at 0x1123e7da0>]"
      ]
     },
     "execution_count": 30,
     "metadata": {},
     "output_type": "execute_result"
    }
   ],
   "source": [
    "m = model.models()\n",
    "m"
   ]
  },
  {
   "cell_type": "code",
   "execution_count": 31,
   "metadata": {},
   "outputs": [
    {
     "data": {
      "text/plain": [
       "[[[ 0.9993694   0.5485256   0.3619677  -0.07908762]\n",
       "  [ 0.1888548   0.5695789   0.8287675  -0.7252917 ]\n",
       "  [-0.4862165   0.1122268   0.5645595  -0.342375  ]]\n",
       " [syft.FloatTensor:62 grad:None size:3x4], [[ 0.9993694 ]\n",
       "  [ 0.5485256 ]\n",
       "  [ 0.3619677 ]\n",
       "  [-0.07908762]]\n",
       " [syft.FloatTensor:64 grad:None size:4x1]]"
      ]
     },
     "execution_count": 31,
     "metadata": {},
     "output_type": "execute_result"
    }
   ],
   "source": [
    "p = model.parameters()\n",
    "p"
   ]
  },
  {
   "cell_type": "code",
   "execution_count": 32,
   "metadata": {
    "collapsed": true
   },
   "outputs": [],
   "source": [
    "input = FloatTensor([[0,0,1],[0,1.0,1],[1,0,1],[1,1,1]], autograd=True)\n",
    "target = FloatTensor([[0],[0],[1],[1]], autograd=True)"
   ]
  },
  {
   "cell_type": "code",
   "execution_count": 33,
   "metadata": {
    "collapsed": true
   },
   "outputs": [],
   "source": [
    "pred = model(input)"
   ]
  },
  {
   "cell_type": "code",
   "execution_count": 35,
   "metadata": {},
   "outputs": [
    {
     "data": {
      "text/plain": [
       "[[[ 0.9993694   0.5485256   0.3619677  -0.07908762]\n",
       "  [ 0.1888548   0.5695789   0.8287675  -0.7252917 ]\n",
       "  [-0.4862165   0.1122268   0.5645595  -0.342375  ]]\n",
       " [syft.FloatTensor:62 grad:None size:3x4]\n",
       " \n",
       " \t-----------children-----------\n",
       " \t[syft.FloatTensor:72 grad:None size:4x4]\n",
       " \t------------------------------\n",
       " \n",
       " , [[ 0.9993694 ]\n",
       "  [ 0.5485256 ]\n",
       "  [ 0.3619677 ]\n",
       "  [-0.07908762]]\n",
       " [syft.FloatTensor:64 grad:None size:4x1]\n",
       " \n",
       " \t-----------children-----------\n",
       " \t[syft.FloatTensor:74 grad:None size:4x1]\n",
       " \t------------------------------\n",
       " \n",
       " ]"
      ]
     },
     "execution_count": 35,
     "metadata": {},
     "output_type": "execute_result"
    }
   ],
   "source": [
    "model.parameters()"
   ]
  },
  {
   "cell_type": "code",
   "execution_count": null,
   "metadata": {
    "collapsed": true
   },
   "outputs": [],
   "source": []
  },
  {
   "cell_type": "code",
   "execution_count": 18,
   "metadata": {
    "collapsed": true
   },
   "outputs": [],
   "source": [
    "loss = pred"
   ]
  },
  {
   "cell_type": "code",
   "execution_count": 19,
   "metadata": {
    "collapsed": true
   },
   "outputs": [],
   "source": [
    "loss.backward()"
   ]
  },
  {
   "cell_type": "code",
   "execution_count": 20,
   "metadata": {},
   "outputs": [
    {
     "data": {
      "text/plain": [
       "[[ 0.  0.  1.]\n",
       " [ 0.  1.  1.]\n",
       " [ 1.  0.  1.]\n",
       " [ 1.  1.  1.]]\n",
       "[syft.FloatTensor:9 grad:31 size:4x3]\n",
       "\n",
       "\t-----------children-----------\n",
       "\t[syft.FloatTensor:11 grad:28 size:4x4]\n",
       "\t------------------------------\n",
       "\n"
      ]
     },
     "execution_count": 20,
     "metadata": {},
     "output_type": "execute_result"
    }
   ],
   "source": [
    "input"
   ]
  },
  {
   "cell_type": "code",
   "execution_count": 21,
   "metadata": {},
   "outputs": [
    {
     "data": {
      "text/plain": [
       "[[ 0.7043499]\n",
       " [ 0.7426865]\n",
       " [ 0.7711535]\n",
       " [ 0.7993531]]\n",
       "[syft.FloatTensor:14 grad:15 size:4x1]\n",
       "\n",
       "\t-----------creators-----------\n",
       "\t[syft.FloatTensor:13 grad:20 size:4x1]\n",
       "\t------------------------------\n",
       "\n"
      ]
     },
     "execution_count": 21,
     "metadata": {},
     "output_type": "execute_result"
    }
   ],
   "source": [
    "loss"
   ]
  },
  {
   "cell_type": "code",
   "execution_count": 24,
   "metadata": {},
   "outputs": [],
   "source": [
    "x = syft.controller.get_tensor(13)"
   ]
  },
  {
   "cell_type": "code",
   "execution_count": 25,
   "metadata": {},
   "outputs": [
    {
     "data": {
      "text/plain": [
       "[[ 0.8680987]\n",
       " [ 1.059979 ]\n",
       " [ 1.214836 ]\n",
       " [ 1.382256 ]]\n",
       "[syft.FloatTensor:13 grad:20 size:4x1]\n",
       "\n",
       "\t-----------children-----------\n",
       "\t[syft.FloatTensor:14 grad:15 size:4x1]\n",
       "\t------------------------------\n",
       "\n",
       "\t-----------creators-----------\n",
       "\t[syft.FloatTensor:12 grad:23 size:4x4]\n",
       "\t[syft.FloatTensor:3 grad:37 size:4x1]\n",
       "\t------------------------------\n",
       "\n"
      ]
     },
     "execution_count": 25,
     "metadata": {},
     "output_type": "execute_result"
    }
   ],
   "source": [
    "x"
   ]
  },
  {
   "cell_type": "code",
   "execution_count": 23,
   "metadata": {},
   "outputs": [
    {
     "name": "stderr",
     "output_type": "stream",
     "text": [
      "ERROR:root:Internal Python error in the inspect module.\n",
      "Below is the traceback from this internal error.\n",
      "\n"
     ]
    },
    {
     "name": "stdout",
     "output_type": "stream",
     "text": [
      "Traceback (most recent call last):\n",
      "  File \"/Users/atrask/anaconda/lib/python3.6/site-packages/IPython/core/interactiveshell.py\", line 2881, in run_code\n",
      "    exec(code_obj, self.user_global_ns, self.user_ns)\n",
      "  File \"<ipython-input-23-c73fac42678d>\", line 2, in <module>\n",
      "    input + target\n",
      "  File \"/Users/atrask/anaconda/lib/python3.6/site-packages/syft-0.1.0-py3.6.egg/syft/tensor.py\", line 88, in __add__\n",
      "    return self.arithmetic_operation(x, \"add\", False)\n",
      "  File \"/Users/atrask/anaconda/lib/python3.6/site-packages/syft-0.1.0-py3.6.egg/syft/tensor.py\", line 405, in arithmetic_operation\n",
      "    self.cmd(operation_cmd, [parameter]))  # sends the command\n",
      "  File \"/Users/atrask/anaconda/lib/python3.6/site-packages/syft-0.1.0-py3.6.egg/syft/controller.py\", line 85, in send_json\n",
      "    raise Exception(res)\n",
      "Exception: Unity Error: System.InvalidOperationException: Tensors cannot be added since they have different sizes: 4 != 12\n",
      "  at OpenMined.Syft.Tensor.FloatTensor.SameSizeDimensionsShapeAndLocation (OpenMined.Syft.Tensor.FloatTensor& tensor) [0x00035] in /Users/atrask/Laboratory/openmined/OpenMined/UnityProject/Assets/OpenMined/Syft/Tensor/FloatTensor.Helpers.cs:13 \n",
      "  at OpenMined.Syft.Tensor.FloatTensor.Add (OpenMined.Syft.Tensor.FloatTensor x, System.Boolean inline) [0x00043] in /Users/atrask/Laboratory/openmined/OpenMined/UnityProject/Assets/OpenMined/Syft/Tensor/FloatTensor.Ops.cs:48 \n",
      "  at OpenMined.Syft.Tensor.FloatTensor.ProcessMessage (OpenMined.Network.Utils.Command msgObj, OpenMined.Network.Controllers.SyftController ctrl) [0x006c9] in /Users/atrask/Laboratory/openmined/OpenMined/UnityProject/Assets/OpenMined/Syft/Tensor/FloatTensor.cs:197 \n",
      "  at OpenMined.Network.Controllers.SyftController.processMessage (System.String json_message) [0x0012e] in /Users/atrask/Laboratory/openmined/OpenMined/UnityProject/Assets/OpenMined/Network/Controllers/SyftController.cs:120 \n",
      "\n",
      "During handling of the above exception, another exception occurred:\n",
      "\n",
      "Traceback (most recent call last):\n",
      "  File \"/Users/atrask/anaconda/lib/python3.6/site-packages/IPython/core/interactiveshell.py\", line 1821, in showtraceback\n",
      "    stb = value._render_traceback_()\n",
      "AttributeError: 'Exception' object has no attribute '_render_traceback_'\n",
      "\n",
      "During handling of the above exception, another exception occurred:\n",
      "\n",
      "Traceback (most recent call last):\n",
      "  File \"/Users/atrask/anaconda/lib/python3.6/site-packages/IPython/core/ultratb.py\", line 1132, in get_records\n",
      "    return _fixed_getinnerframes(etb, number_of_lines_of_context, tb_offset)\n",
      "  File \"/Users/atrask/anaconda/lib/python3.6/site-packages/IPython/core/ultratb.py\", line 313, in wrapped\n",
      "    return f(*args, **kwargs)\n",
      "  File \"/Users/atrask/anaconda/lib/python3.6/site-packages/IPython/core/ultratb.py\", line 358, in _fixed_getinnerframes\n",
      "    records = fix_frame_records_filenames(inspect.getinnerframes(etb, context))\n",
      "  File \"/Users/atrask/anaconda/lib/python3.6/inspect.py\", line 1453, in getinnerframes\n",
      "    frameinfo = (tb.tb_frame,) + getframeinfo(tb, context)\n",
      "  File \"/Users/atrask/anaconda/lib/python3.6/inspect.py\", line 1411, in getframeinfo\n",
      "    filename = getsourcefile(frame) or getfile(frame)\n",
      "  File \"/Users/atrask/anaconda/lib/python3.6/inspect.py\", line 666, in getsourcefile\n",
      "    if getattr(getmodule(object, filename), '__loader__', None) is not None:\n",
      "  File \"/Users/atrask/anaconda/lib/python3.6/inspect.py\", line 695, in getmodule\n",
      "    file = getabsfile(object, _filename)\n",
      "  File \"/Users/atrask/anaconda/lib/python3.6/inspect.py\", line 679, in getabsfile\n",
      "    return os.path.normcase(os.path.abspath(_filename))\n",
      "  File \"/Users/atrask/anaconda/lib/python3.6/posixpath.py\", line 374, in abspath\n",
      "    cwd = os.getcwd()\n",
      "FileNotFoundError: [Errno 2] No such file or directory\n"
     ]
    },
    {
     "ename": "Exception",
     "evalue": "Unity Error: System.InvalidOperationException: Tensors cannot be added since they have different sizes: 4 != 12\n  at OpenMined.Syft.Tensor.FloatTensor.SameSizeDimensionsShapeAndLocation (OpenMined.Syft.Tensor.FloatTensor& tensor) [0x00035] in /Users/atrask/Laboratory/openmined/OpenMined/UnityProject/Assets/OpenMined/Syft/Tensor/FloatTensor.Helpers.cs:13 \n  at OpenMined.Syft.Tensor.FloatTensor.Add (OpenMined.Syft.Tensor.FloatTensor x, System.Boolean inline) [0x00043] in /Users/atrask/Laboratory/openmined/OpenMined/UnityProject/Assets/OpenMined/Syft/Tensor/FloatTensor.Ops.cs:48 \n  at OpenMined.Syft.Tensor.FloatTensor.ProcessMessage (OpenMined.Network.Utils.Command msgObj, OpenMined.Network.Controllers.SyftController ctrl) [0x006c9] in /Users/atrask/Laboratory/openmined/OpenMined/UnityProject/Assets/OpenMined/Syft/Tensor/FloatTensor.cs:197 \n  at OpenMined.Network.Controllers.SyftController.processMessage (System.String json_message) [0x0012e] in /Users/atrask/Laboratory/openmined/OpenMined/UnityProject/Assets/OpenMined/Network/Controllers/SyftController.cs:120 ",
     "output_type": "error",
     "traceback": [
      "\u001b[0;31m---------------------------------------------------------------------------\u001b[0m"
     ]
    }
   ],
   "source": [
    "# Example of error handling\n",
    "input + target"
   ]
  },
  {
   "cell_type": "code",
   "execution_count": null,
   "metadata": {
    "collapsed": true
   },
   "outputs": [],
   "source": []
  }
 ],
 "metadata": {
  "kernelspec": {
   "display_name": "Python 3",
   "language": "python",
   "name": "python3"
  },
  "language_info": {
   "codemirror_mode": {
    "name": "ipython",
    "version": 3
   },
   "file_extension": ".py",
   "mimetype": "text/x-python",
   "name": "python",
   "nbconvert_exporter": "python",
   "pygments_lexer": "ipython3",
   "version": "3.6.1"
  }
 },
 "nbformat": 4,
 "nbformat_minor": 2
}
