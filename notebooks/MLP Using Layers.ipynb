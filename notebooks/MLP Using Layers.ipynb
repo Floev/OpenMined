{
 "cells": [
  {
   "cell_type": "code",
   "execution_count": 1,
   "metadata": {},
   "outputs": [],
   "source": [
    "import syft\n",
    "import syft.nn as nn\n",
    "import syft.controller\n",
    "import imp\n",
    "imp.reload(syft.controller)\n",
    "imp.reload(syft.nn)\n",
    "imp.reload(syft)\n",
    "\n",
    "import numpy as np\n",
    "from syft import FloatTensor"
   ]
  },
  {
   "cell_type": "code",
   "execution_count": 7,
   "metadata": {},
   "outputs": [],
   "source": [
    "model = nn.Sequential([\n",
    "    nn.Linear(3,4),\n",
    "    nn.Sigmoid(),\n",
    "    nn.Linear(4,1),\n",
    "    nn.Sigmoid()\n",
    "])\n",
    "\n",
    "input = FloatTensor([[0,0,1],[0,1.0,1],[1,0,1],[1,1,1]], autograd=True)\n",
    "target = FloatTensor([[0],[0],[1],[1]], autograd=True)"
   ]
  },
  {
   "cell_type": "code",
   "execution_count": 8,
   "metadata": {},
   "outputs": [
    {
     "name": "stdout",
     "output_type": "stream",
     "text": [
      "1.14032191\n",
      "0.9683656\n",
      "0.9492205\n",
      "1.09052751\n",
      "1.05194588\n",
      "0.8136929\n",
      "0.69513716\n",
      "0.74000879\n",
      "0.63795074\n",
      "0.381106685\n",
      "0.159602006\n",
      "0.0539412325\n",
      "0.0169978591\n",
      "0.00548891566\n",
      "0.001897863142\n",
      "0.0007144740962\n",
      "0.00029502667343\n",
      "0.00013423518337\n",
      "6.75081623541e-05\n",
      "3.76038141781e-05\n",
      "2.32351305174e-05\n",
      "1.59430954361e-05\n",
      "1.21533125024e-05\n",
      "1.02798630002e-05\n",
      "9.61232760001e-06\n",
      "9.8709607e-06\n",
      "1.103365164e-05\n",
      "1.329013e-05\n",
      "1.707275276e-05\n",
      "2.315919063e-05\n",
      "3.286621987e-05\n",
      "4.837690605e-05\n",
      "7.3269627203e-05\n",
      "0.000113344394661\n",
      "0.000177874392771\n",
      "0.000281422216197\n",
      "0.000446353853149\n",
      "0.000706099222407\n",
      "0.00110907034145\n",
      "0.00172283389043\n",
      "0.0026378115914\n",
      "10 loops, best of 3: 199 ms per loop\n"
     ]
    }
   ],
   "source": [
    "%%timeit\n",
    "\n",
    "pred = model(input)\n",
    "\n",
    "loss = (pred - target) ** 2 # Mean Squared Error Loss\n",
    "\n",
    "loss.backward()\n",
    "\n",
    "for p in model.parameters():\n",
    "    p -= p.grad()\n",
    "\n",
    "\n",
    "print(loss.to_numpy().sum())"
   ]
  },
  {
   "cell_type": "code",
   "execution_count": null,
   "metadata": {
    "collapsed": true
   },
   "outputs": [],
   "source": []
  },
  {
   "cell_type": "code",
   "execution_count": null,
   "metadata": {
    "collapsed": true
   },
   "outputs": [],
   "source": []
  }
 ],
 "metadata": {
  "kernelspec": {
   "display_name": "Python 3",
   "language": "python",
   "name": "python3"
  },
  "language_info": {
   "codemirror_mode": {
    "name": "ipython",
    "version": 3
   },
   "file_extension": ".py",
   "mimetype": "text/x-python",
   "name": "python",
   "nbconvert_exporter": "python",
   "pygments_lexer": "ipython3",
   "version": "3.6.1"
  }
 },
 "nbformat": 4,
 "nbformat_minor": 2
}
