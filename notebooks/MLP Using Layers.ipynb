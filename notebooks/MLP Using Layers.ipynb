{
 "cells": [
  {
   "cell_type": "code",
   "execution_count": 1,
   "metadata": {},
   "outputs": [],
   "source": [
    "import syft\n",
    "import syft.nn as nn\n",
    "import syft.controller\n",
    "import imp\n",
    "imp.reload(syft.controller)\n",
    "imp.reload(syft.nn)\n",
    "imp.reload(syft)\n",
    "\n",
    "import numpy as np\n",
    "from syft import FloatTensor"
   ]
  },
  {
   "cell_type": "code",
   "execution_count": 2,
   "metadata": {},
   "outputs": [],
   "source": [
    "hidden = 5\n",
    "model = nn.Sequential([\n",
    "    nn.Linear(3,hidden),\n",
    "    nn.Sigmoid(),\n",
    "    nn.Linear(hidden,1),\n",
    "    nn.Sigmoid()\n",
    "])\n",
    "\n",
    "input = FloatTensor([[0,0,1],[0,1.0,1],[1,0,1],[1,1,1]], autograd=True)\n",
    "target = FloatTensor([[0],[0],[1],[1]], autograd=True)"
   ]
  },
  {
   "cell_type": "code",
   "execution_count": 3,
   "metadata": {},
   "outputs": [
    {
     "name": "stdout",
     "output_type": "stream",
     "text": [
      "1.26672555\n",
      "1.02380253\n",
      "1.0276716\n",
      "1.2278315\n",
      "1.13604159\n",
      "0.8229396\n",
      "0.78021362\n",
      "0.77564059\n",
      "0.5130044\n",
      "0.22073475\n",
      "0.1457121\n",
      "0.14874448\n",
      "0.117731184\n",
      "0.05977855596\n",
      "0.015319748049\n",
      "0.0018115167293\n",
      "0.00013588706214\n",
      "9.744622728e-06\n",
      "8.6022429688e-07\n",
      "9.8887851286e-08\n",
      "1.40382370197e-08\n",
      "2.28914801682e-09\n",
      "4.0319126176e-10\n",
      "7.355976651e-11\n",
      "1.36495891014e-11\n",
      "2.44782388463e-12\n",
      "4.61853116463e-13\n",
      "9.23705750917e-14\n",
      "291 ms ± 68.7 ms per loop (mean ± std. dev. of 7 runs, 4 loops each)\n"
     ]
    }
   ],
   "source": [
    "%%timeit -n 4\n",
    "\n",
    "pred = model(input)\n",
    "\n",
    "loss = (pred - target) ** 2 # Mean Squared Error Loss\n",
    "\n",
    "loss.backward()\n",
    "\n",
    "for p in model.parameters():\n",
    "    p -= p.grad()\n",
    "\n",
    "\n",
    "print(loss.to_numpy().sum())"
   ]
  }
 ],
 "metadata": {
  "kernelspec": {
   "display_name": "Python 3",
   "language": "python",
   "name": "python3"
  },
  "language_info": {
   "codemirror_mode": {
    "name": "ipython",
    "version": 3
   },
   "file_extension": ".py",
   "mimetype": "text/x-python",
   "name": "python",
   "nbconvert_exporter": "python",
   "pygments_lexer": "ipython3",
   "version": "3.6.2"
  }
 },
 "nbformat": 4,
 "nbformat_minor": 2
}
