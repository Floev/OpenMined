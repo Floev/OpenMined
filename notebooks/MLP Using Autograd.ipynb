{
 "cells": [
  {
   "cell_type": "code",
   "execution_count": 18,
   "metadata": {},
   "outputs": [],
   "source": [
    "import syft\n",
    "import syft.nn as nn\n",
    "import syft.controller\n",
    "import imp\n",
    "imp.reload(syft.controller)\n",
    "imp.reload(syft.nn)\n",
    "imp.reload(syft)\n",
    "\n",
    "import numpy as np\n",
    "from syft import FloatTensor\n",
    "\n"
   ]
  },
  {
   "cell_type": "code",
   "execution_count": 23,
   "metadata": {},
   "outputs": [
    {
     "name": "stdout",
     "output_type": "stream",
     "text": [
      "0.9943027\n",
      "1.0494245\n",
      "0.9911879\n",
      "0.9923492\n",
      "1 loop, best of 3: 662 ms per loop\n"
     ]
    }
   ],
   "source": [
    "%%timeit\n",
    "\n",
    "input = FloatTensor([[0,0,1],[0,1.0,1],[1,0,1],[1,1,1]], autograd=True)\n",
    "target = FloatTensor([[0],[0],[1],[1]]).autograd(True)\n",
    "\n",
    "weights_0_1 = FloatTensor(np.random.rand(3,4)).autograd(True) - 0.5\n",
    "weights_1_2 = FloatTensor(np.random.rand(4,1)).autograd(True) - 0.5\n",
    "\n",
    "layer_1 = input.mm(weights_0_1).sigmoid()\n",
    "layer_2 = layer_1.mm(weights_1_2).sigmoid()\n",
    "\n",
    "loss = (layer_2 - target) ** 2 # Mean Squared Error Loss\n",
    "\n",
    "loss.backward()\n",
    "\n",
    "weights_0_1 -= weights_0_1.grad() * 0.5\n",
    "weights_1_2 -= weights_1_2.grad() * 0.5\n",
    "\n",
    "print(loss.to_numpy().sum())"
   ]
  },
  {
   "cell_type": "code",
   "execution_count": null,
   "metadata": {
    "collapsed": true
   },
   "outputs": [],
   "source": []
  }
 ],
 "metadata": {
  "kernelspec": {
   "display_name": "Python 3",
   "language": "python",
   "name": "python3"
  },
  "language_info": {
   "codemirror_mode": {
    "name": "ipython",
    "version": 3
   },
   "file_extension": ".py",
   "mimetype": "text/x-python",
   "name": "python",
   "nbconvert_exporter": "python",
   "pygments_lexer": "ipython3",
   "version": "3.6.1"
  }
 },
 "nbformat": 4,
 "nbformat_minor": 2
}
